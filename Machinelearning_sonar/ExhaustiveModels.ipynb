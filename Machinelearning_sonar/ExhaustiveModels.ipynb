def get_acc(model_type, train_data, test_data):
    train_feature_df = train_df.drop("class", axis='columns')
    train_class_df = train_df["class"]
    
    if model_type == 1:
        model = ExhaustiveFeatureSelector(MLPClassifier(max_iter=10000, hidden_layer_sizes=(200,)).fit(train_feature_df, train_class_df), min_features=4, max_features=15, scoring='accuracy')
        
    elif model_type == 2:
        model = ExhaustiveFeatureSelector(LogisticRegression(max_iter=10000).fit(train_feature_df, train_class_df), min_features=4, max_features=15, scoring='accuracy')
        
    elif model_type == 3:
        model = ExhaustiveFeatureSelector(GaussianNB().fit(train_feature_df, train_class_df), min_features=4, max_features=15, scoring='accuracy')
        
    elif model_type == 4:
        model = ExhaustiveFeatureSelector(KNeighborsClassifier(n_neighbors=5).fit(train_feature_df, train_class_df), min_features=4, max_features=15, scoring='accuracy')
        
    
    test_feature_df = test_df.drop("class", axis='columns')
    test_class_df = test_df["class"]
    # score = model.score(test_feature_df, test_class_df)
    return score
